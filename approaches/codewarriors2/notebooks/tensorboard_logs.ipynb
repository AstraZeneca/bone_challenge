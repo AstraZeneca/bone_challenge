{
 "cells": [
  {
   "cell_type": "markdown",
   "id": "b3eb4f3b-50df-4fe9-9dd9-82d20f9c9f66",
   "metadata": {},
   "source": [
    "# Training plots from tensorboard logs"
   ]
  },
  {
   "cell_type": "code",
   "execution_count": null,
   "id": "210117e0-1aac-4c07-9978-6013de709956",
   "metadata": {
    "tags": []
   },
   "outputs": [],
   "source": [
    "import os \n",
    "import sys\n",
    "import matplotlib.pyplot as plt\n",
    "\n",
    "sys.path.append('..')\n",
    "from training.tensorboard_utils import tensorboard_logs_to_dataframe"
   ]
  },
  {
   "cell_type": "code",
   "execution_count": null,
   "id": "79563e39-a7cc-4a27-8d90-ae69c1bd5984",
   "metadata": {
    "tags": []
   },
   "outputs": [],
   "source": [
    "MODEL_DIRS = []\n",
    "ITERATIONS = []\n",
    "TRAINING_LOSS_PATHS = []\n",
    "MACRO_AVG_PRECISION_PATHS = []\n",
    "LOSS_TRAINING_PATHS = []\n",
    "LOSS_VALIDATION_PATHS = []\n",
    "\n",
    "for i in range(1):\n",
    "    MODEL_DIR = f'resnet_18_6_all'\n",
    "    ITERATION = 'Iteration_1'\n",
    "    \n",
    "    TRAINING_LOSS_PATHS.append(f'../training/{MODEL_DIR}/logs/{ITERATION}')\n",
    "    MACRO_AVG_PRECISION_PATHS.append(f'../training/{MODEL_DIR}/logs/{ITERATION}/Macro_averaged_precision_score_Validation/')\n",
    "    LOSS_TRAINING_PATHS.append(f'../training/{MODEL_DIR}/logs/{ITERATION}/Training vs. Validation Loss_Training/')\n",
    "    LOSS_VALIDATION_PATHS.append(f'../training/{MODEL_DIR}/logs/{ITERATION}/Training vs. Validation Loss_Validation/')\n",
    "    \n",
    "    \n",
    "    \n",
    "\n",
    "# TRAINING_LOSS_PATH = f'../training/logs/{ITERATION}'\n",
    "# MACRO_AVG_PRECISION_PATH = f'../training/logs/{ITERATION}/Macro_averaged_precision_score_Validation/'\n",
    "# LOSS_TRAINING_PATH = f'../training/logs/{ITERATION}/Training vs. Validation Loss_Training/'\n",
    "# LOSS_VALIDATION_PATH = f'../training/logs/{ITERATION}/Training vs. Validation Loss_Validation/'"
   ]
  },
  {
   "cell_type": "markdown",
   "id": "d48ab15d-2c0f-4b4d-a9f3-2f7d4dca4da1",
   "metadata": {},
   "source": [
    "## Train loss"
   ]
  },
  {
   "cell_type": "code",
   "execution_count": null,
   "id": "a5964769-fb75-4763-87c5-183475c2f71f",
   "metadata": {
    "tags": []
   },
   "outputs": [],
   "source": [
    "for i in range(1):\n",
    "    df = tensorboard_logs_to_dataframe(TRAINING_LOSS_PATHS[i])\n",
    "    df.plot(title='Training loss', x = 'step', y='value', ylabel='loss value', xlabel='batch', legend=False)"
   ]
  },
  {
   "cell_type": "markdown",
   "id": "ea4c39fa-d938-45cb-8ca2-030aaf280fdd",
   "metadata": {},
   "source": [
    "## Training vs validation loss"
   ]
  },
  {
   "cell_type": "code",
   "execution_count": null,
   "id": "1872b03a-f6a1-4afb-957c-177501586d57",
   "metadata": {
    "tags": []
   },
   "outputs": [],
   "source": [
    "for i in range(1):\n",
    "    fig, ax = plt.subplots()\n",
    "    train_loss = tensorboard_logs_to_dataframe(LOSS_TRAINING_PATHS[i])\n",
    "    valid_loss = tensorboard_logs_to_dataframe(LOSS_VALIDATION_PATHS[i])\n",
    "    train_loss.plot(x = 'step', y='value', legend=False, ax=ax,color='green')\n",
    "    valid_loss.plot(x = 'step', y='value', legend=False, ax=ax)\n",
    "    plt.ylim(0, 0.15)\n",
    "    plt.ylabel('loss value')\n",
    "    plt.xlabel('epoch')"
   ]
  },
  {
   "cell_type": "markdown",
   "id": "d884bf7d-d33a-4c7a-b96c-80a0b9309080",
   "metadata": {},
   "source": [
    "## Macro averaged precision"
   ]
  },
  {
   "cell_type": "code",
   "execution_count": null,
   "id": "337d0531-c201-4c6f-a0a3-f617d07b2d14",
   "metadata": {
    "tags": []
   },
   "outputs": [],
   "source": [
    "for i in range(1):\n",
    "    fig, ax = plt.subplots()\n",
    "    macro_precision = tensorboard_logs_to_dataframe(MACRO_AVG_PRECISION_PATHS[i])\n",
    "    macro_precision.plot(x = 'step', y='value', legend=False, ax=ax)\n",
    "    plt.ylabel('macro-averaged precison')\n",
    "    plt.xlabel('epoch')"
   ]
  }
 ],
 "metadata": {
  "kernelspec": {
   "display_name": "Python 3.12.2 (Code Warriors)",
   "language": "python",
   "name": "code-warriors"
  },
  "language_info": {
   "codemirror_mode": {
    "name": "ipython",
    "version": 3
   },
   "file_extension": ".py",
   "mimetype": "text/x-python",
   "name": "python",
   "nbconvert_exporter": "python",
   "pygments_lexer": "ipython3",
   "version": "3.12.2"
  }
 },
 "nbformat": 4,
 "nbformat_minor": 5
}
