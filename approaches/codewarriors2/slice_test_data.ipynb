{
 "cells": [
  {
   "cell_type": "code",
   "execution_count": null,
   "id": "13ac402e-f365-47ab-8e07-656c4ee39a1e",
   "metadata": {
    "tags": []
   },
   "outputs": [],
   "source": [
    "import os\n",
    "import pandas as pd\n",
    "import niifiles_utils as niiut\n",
    "import numpy as np"
   ]
  },
  {
   "cell_type": "code",
   "execution_count": null,
   "id": "1f9ccb42-0b71-43a7-b55d-0769d0fe6820",
   "metadata": {
    "tags": []
   },
   "outputs": [],
   "source": [
    "TESTDATA_PATH = 'test-data/workstream-2'\n",
    "X_SHAPE = 322\n",
    "Y_SHAPE = 307"
   ]
  },
  {
   "cell_type": "code",
   "execution_count": null,
   "id": "49d1fefc-913c-4763-a045-cb6e7c4eb9a0",
   "metadata": {
    "tags": []
   },
   "outputs": [],
   "source": [
    "flist = [f.split('.')[0] for f in os.listdir(TESTDATA_PATH)]\n",
    "df = pd.DataFrame()\n",
    "df['image_name'] = sorted(flist)\n",
    "df['index'] = [157, 181, 183, 167, 198, 184, 161, 161, 193, 173, 175, 178, 200]\n",
    "df.to_csv('test.csv')"
   ]
  },
  {
   "cell_type": "code",
   "execution_count": null,
   "id": "66b4ebc2-d0f7-43cc-8a13-d2b69dbecf83",
   "metadata": {
    "tags": []
   },
   "outputs": [],
   "source": [
    "flist2 = sorted(os.listdir('sliced_data_test/z_axis'))\n",
    "df2 = pd.DataFrame()\n",
    "df2['img_file_name'] = flist2\n",
    "df2['Image Name'] = df2['img_file_name'].apply(lambda x: x.split('.')[0])\n",
    "df2[['Image Name', 'Slice Index']] = df2['Image Name'].str.split('_', expand=True)\n",
    "df2['Slice Index'] = df2['Slice Index'].astype(int)\n",
    "df2['Growth Plate Index'] = 0"
   ]
  },
  {
   "cell_type": "code",
   "execution_count": null,
   "id": "ac17b27d-56c3-4c41-8c9e-e1a40e105899",
   "metadata": {
    "tags": []
   },
   "outputs": [],
   "source": [
    "df2 = df2.sort_values(by=['Image Name', 'Slice Index'], ignore_index=True)"
   ]
  },
  {
   "cell_type": "code",
   "execution_count": null,
   "id": "dc4e5f0f-b7c1-467b-ac7a-28ee182d5945",
   "metadata": {
    "tags": []
   },
   "outputs": [],
   "source": [
    "df2.head(3)"
   ]
  },
  {
   "cell_type": "code",
   "execution_count": null,
   "id": "94f974d9-d2f3-4d4f-a00e-b1e295b2b816",
   "metadata": {
    "tags": []
   },
   "outputs": [],
   "source": [
    "df2.to_csv('metadata_test/test_zaxis.csv')"
   ]
  },
  {
   "cell_type": "code",
   "execution_count": null,
   "id": "9c90e0b7-90f6-48e7-94ff-6e225dc59a7b",
   "metadata": {
    "tags": []
   },
   "outputs": [],
   "source": [
    "file = niiut.get_random_niifilename(folderpath=TESTDATA_PATH)"
   ]
  },
  {
   "cell_type": "code",
   "execution_count": null,
   "id": "f509145d-748d-4294-a2f6-d0f2f4c8f566",
   "metadata": {
    "tags": []
   },
   "outputs": [],
   "source": [
    "arr = niiut.load_niifile_as_numpy('test-data/workstream-2/feaec917f3.nii')"
   ]
  },
  {
   "cell_type": "code",
   "execution_count": null,
   "id": "8b12b714-d229-4e51-bb61-45db2639c2d3",
   "metadata": {
    "tags": []
   },
   "outputs": [],
   "source": [
    "niiut.show_multiple_slices(arr, n=642)"
   ]
  },
  {
   "cell_type": "code",
   "execution_count": null,
   "id": "86fda83c-fa28-4355-a37b-68a653517ea7",
   "metadata": {
    "tags": []
   },
   "outputs": [],
   "source": [
    "sums_norm = niiut.get_slices_sums_normalized(TESTDATA_PATH)"
   ]
  },
  {
   "cell_type": "code",
   "execution_count": null,
   "id": "e419b4d9-421a-4e31-b9fa-aeec825c015f",
   "metadata": {
    "tags": []
   },
   "outputs": [],
   "source": [
    "def window_test_image(x_thr_max: float, y_thr_max: float,\n",
    "                      x_shape = X_SHAPE, y_shape=Y_SHAPE,\n",
    "                      folderpath = TESTDATA_PATH, outputpath='sliced_data_test/z_axis'):\n",
    "    '''\n",
    "    Reduce amount of background.\n",
    "    '''\n",
    "    \n",
    "    # make a folder\n",
    "    if not os.path.exists(outputpath):\n",
    "        os.makedirs(outputpath)\n",
    "\n",
    "    area_sums_norm = niiut.get_slices_sums_normalized(folderpath)\n",
    "    shapes= [x_shape, y_shape]\n",
    "    thrs = [x_thr_max, y_thr_max]\n",
    "    for i, ax_data in enumerate(area_sums_norm):\n",
    "        \n",
    "        if i == 2:\n",
    "            continue\n",
    "            \n",
    "        sums_norm_maxes = np.max(x_sums_norm, axis=0)\n",
    "        # idxsort = np.argsort(x_sums_norm_sumed)\n",
    "        # idxsort_shape = idxsort[-(shapes_idx[i]) + 1:-1]\n",
    "        # idxmin = np.sort(idxsort_shape)\n",
    "        \n",
    "        # i_min = int((idxmin[0] + idxmin[-1]) // 2 - shapes_idx[i] / 2)\n",
    "        # i_max = (idxmin[0] + idxmin[-1]) // 2 + shapes_idx[i] // 2\n",
    "        i_min = np.where(sums_norm_maxes > thrs[i])[0][0]\n",
    "        i_max = i_min + shapes[i]\n",
    "        \n",
    "        if i == 0:\n",
    "            xmin = i_min\n",
    "            xmax = i_max\n",
    "        elif i == 1:\n",
    "            ymin = i_min\n",
    "            ymax = i_max\n",
    "        \n",
    "    filenames = [f.split('.')[0] for f in os.listdir(folderpath)]\n",
    "    flist = [os.path.join(folderpath, file) for file in os.listdir(folderpath)]\n",
    "    for i, file in enumerate(flist):\n",
    "        imgarray = niiut.load_niifile_as_numpy(file)\n",
    "        \n",
    "        if xmin < 0:\n",
    "            xmin = 0\n",
    "            xmax = x_shape\n",
    "        if ymin < 0:\n",
    "            ymin = 0\n",
    "            ymax = y_shape\n",
    "        if xmax > imgarray.shape[0]:\n",
    "            xmax = imgarray.shape[0]\n",
    "            xmin = xmax - x_shape\n",
    "        if ymax > imgarray.shape[1]:\n",
    "            ymax = imgarray.shape[1]\n",
    "            ymin = ymax - y_shape\n",
    "                \n",
    "        for z in range(imgarray.shape[2]):\n",
    "            imgarray_windowed = imgarray[xmin:xmax, ymin:ymax, z]\n",
    "            imgarray_windowed = imgarray_windowed.reshape((imgarray_windowed.shape[0], imgarray_windowed.shape[1], 1))\n",
    "            print(imgarray_windowed.shape)\n",
    "            if imgarray_windowed.shape[0] != x_shape or imgarray_windowed.shape[1] != y_shape:\n",
    "                print(f'ERROR: {filenames[i]} shape: {imgarray_windowed.shape}')\n",
    "                continue\n",
    "            np.save(os.path.join(outputpath, filenames[i] + \"_\" + str(z) + '.npy'), imgarray_windowed)\n",
    "            print(f\"{filenames[i]}_{z}.npy saved\")"
   ]
  },
  {
   "cell_type": "code",
   "execution_count": null,
   "id": "38c4d8b9-b597-4082-be6e-525676aa2f2f",
   "metadata": {
    "tags": []
   },
   "outputs": [],
   "source": [
    "window_test_image(x_thr_max = 0.03, y_thr_max = 0.03)"
   ]
  },
  {
   "cell_type": "code",
   "execution_count": null,
   "id": "14400bfc-4757-4418-b7f8-e488d8e5146d",
   "metadata": {
    "tags": []
   },
   "outputs": [],
   "source": [
    "testslices = os.listdir('sliced_data_test/z_axis')"
   ]
  },
  {
   "cell_type": "code",
   "execution_count": null,
   "id": "d04116cd-0026-4122-b03a-45d63c9715e2",
   "metadata": {
    "tags": []
   },
   "outputs": [],
   "source": [
    "len(testslices)"
   ]
  },
  {
   "cell_type": "code",
   "execution_count": null,
   "id": "45c2e0d0-7d8a-4525-b822-ced3afca56d6",
   "metadata": {
    "tags": []
   },
   "outputs": [],
   "source": [
    "import random\n",
    "import matplotlib.pyplot as plt\n",
    "\n",
    "randslice = random.choice(testslices)\n",
    "slicearr = np.load(os.path.join('sliced_data_test/z_axis', randslice))\n",
    "\n",
    "plt.imshow(slicearr, cmap='bone')\n",
    "plt.axis('off')\n",
    "plt.show()"
   ]
  },
  {
   "cell_type": "code",
   "execution_count": null,
   "id": "05486cd4-b214-40bc-bea1-e997bf55d7e4",
   "metadata": {
    "tags": []
   },
   "outputs": [],
   "source": [
    "train_slices = os.listdir('sliced_data_new/z_axis')"
   ]
  },
  {
   "cell_type": "code",
   "execution_count": null,
   "id": "8fae461a-77ef-408a-87d4-8df8cc01b670",
   "metadata": {
    "tags": []
   },
   "outputs": [],
   "source": [
    "randslice = random.choice(train_slices)\n",
    "slicearr = np.load(os.path.join('sliced_data_new/z_axis', randslice))\n",
    "\n",
    "plt.imshow(slicearr, cmap='bone')\n",
    "plt.axis('off')\n",
    "plt.show()"
   ]
  },
  {
   "cell_type": "code",
   "execution_count": null,
   "id": "0382eb92-d6c7-4702-937d-ad70d1aa42b8",
   "metadata": {},
   "outputs": [],
   "source": []
  },
  {
   "cell_type": "code",
   "execution_count": null,
   "id": "30d5a152-3be0-4dee-be4e-da2dc5402efc",
   "metadata": {},
   "outputs": [],
   "source": []
  }
 ],
 "metadata": {
  "kernelspec": {
   "display_name": "Python 3.12.2 (Code Warriors)",
   "language": "python",
   "name": "code-warriors"
  },
  "language_info": {
   "codemirror_mode": {
    "name": "ipython",
    "version": 3
   },
   "file_extension": ".py",
   "mimetype": "text/x-python",
   "name": "python",
   "nbconvert_exporter": "python",
   "pygments_lexer": "ipython3",
   "version": "3.12.2"
  }
 },
 "nbformat": 4,
 "nbformat_minor": 5
}
